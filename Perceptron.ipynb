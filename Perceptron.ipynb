{
 "cells": [
  {
   "cell_type": "code",
   "execution_count": 150,
   "metadata": {},
   "outputs": [
    {
     "name": "stdout",
     "output_type": "stream",
     "text": [
      "Requirement already satisfied: import_ipynb in c:\\users\\crara\\anaconda3\\lib\\site-packages (0.1.3)\n",
      "Requirement already satisfied: dtw-python in c:\\users\\crara\\anaconda3\\lib\\site-packages (1.1.10)\n",
      "Requirement already satisfied: scipy>=1.1 in c:\\users\\crara\\anaconda3\\lib\\site-packages (from dtw-python) (1.1.0)\n",
      "Requirement already satisfied: numpy>=1.19 in c:\\users\\crara\\anaconda3\\lib\\site-packages (from dtw-python) (1.20.1)\n"
     ]
    }
   ],
   "source": [
    "!pip install import_ipynb\n",
    "!pip install dtw-python"
   ]
  },
  {
   "cell_type": "code",
   "execution_count": 151,
   "metadata": {},
   "outputs": [],
   "source": [
    "# Initial Setting\r\n",
    "import numpy as np\r\n",
    "import pandas as pd\r\n",
    "import matplotlib.pyplot as plt\r\n",
    "import import_ipynb\r\n",
    "import Function\r\n",
    "from dtw import *\r\n",
    "from pykrx import stock\r\n",
    "from sklearn.preprocessing import MinMaxScaler\r\n",
    "from sklearn import svm\r\n",
    "from sklearn.datasets.samples_generator import make_blobs"
   ]
  },
  {
   "cell_type": "code",
   "execution_count": 152,
   "metadata": {},
   "outputs": [],
   "source": [
    "kospi_200 = stock.get_index_portfolio_deposit_file(\"1028\")"
   ]
  },
  {
   "cell_type": "code",
   "execution_count": 153,
   "metadata": {},
   "outputs": [],
   "source": [
    "df = pd.DataFrame(columns=['시가', '고가', '저가', '종가', '거래량', '종목명', '종목코드'])\n",
    "for i in kospi_200:\n",
    "    tmp_df = stock.get_market_ohlcv_by_date(\"20200101\", \"20210101\", i, \"y\")\n",
    "    name = stock.get_market_ticker_name(i)\n",
    "    tmp_df['종목명'] = name\n",
    "    tmp_df['종목코드'] = i\n",
    "    df = df.append(tmp_df)"
   ]
  },
  {
   "cell_type": "markdown",
   "metadata": {},
   "source": [
    "거래량 순으로 정렬:"
   ]
  },
  {
   "cell_type": "code",
   "execution_count": 154,
   "metadata": {},
   "outputs": [
    {
     "name": "stdout",
     "output_type": "stream",
     "text": [
      "                시가      고가      저가      종가           거래량      종목명    종목코드\n",
      "2020-12-31   55500   81300   42300   81000  5.471749e+09     삼성전자  005930\n",
      "2020-12-31    3305    7980    2920    4695  3.397658e+09    남선알미늄  008350\n",
      "2020-12-31    7270    7930    3070    7040  2.263565e+09    삼성중공업  010140\n",
      "2020-12-31    5550   10550    2500    7920  2.128066e+09  두산인프라코어  042670\n",
      "2020-12-31    7330  214000       0  124000  2.036548e+09     신풍제약  019170\n",
      "...            ...     ...     ...     ...           ...      ...     ...\n",
      "2020-12-31   37518   89260   18587   76100  1.013712e+08   한미사이언스  008930\n",
      "2020-12-31  262500  332000  102500  240500  1.008337e+08       SK  034730\n",
      "2020-12-31  254500  263000  126000  255500  9.882598e+07    현대모비스  012330\n",
      "2020-12-31  236000  285000  133000  272000  9.843052e+07    POSCO  005490\n",
      "2020-12-31   74100   97700   44600   87500  9.721405e+07       LG  003550\n",
      "\n",
      "[100 rows x 7 columns]\n"
     ]
    }
   ],
   "source": [
    "sorted_df = df.sort_values(by=['거래량'], axis=0, ascending = False)\r\n",
    "print(sorted_df.head(100))\r\n",
    "code_df = sorted_df.iloc[:100, 6]"
   ]
  },
  {
   "cell_type": "code",
   "execution_count": 155,
   "metadata": {},
   "outputs": [],
   "source": [
    "def volume_ret_df(date_1, date_2, date_3, date_4):\n",
    "    code_list = []\n",
    "    name_list = []\n",
    "    f_list = []\n",
    "    o_list = []\n",
    "    p_list = []\n",
    "    for i in range(len(code_df)):\n",
    "        code_tmp = code_df[i]\n",
    "        name_tmp = stock.get_market_ticker_name(code_tmp)\n",
    "        volume_df = stock.get_market_trading_volume_by_date(date_1, date_2, code_tmp)\n",
    "        code_list.append(code_tmp)\n",
    "        name_list.append(name_tmp)\n",
    "        f_list.append(volume_df['외국인합계'].sum())\n",
    "        o_list.append(volume_df['기관합계'].sum())\n",
    "        p_list.append(volume_df['개인'].sum())\n",
    "    result_df = pd.DataFrame(columns=['종목코드', '종목명', '외국인거래량', '기관거래량', '개인거래량', '수익률'])\n",
    "    result_df['종목코드'] = code_list\n",
    "    result_df['종목명'] = name_list\n",
    "    result_df['외국인거래량'] = f_list\n",
    "    result_df['기관거래량'] = o_list\n",
    "    result_df['개인거래량'] = p_list\n",
    "    ret_list = []\n",
    "    for i in range(len(code_df)):\n",
    "        code_tmp = code_df[i]\n",
    "        tmp_df = stock.get_market_ohlcv_by_date(date_3, date_4, code_tmp)\n",
    "        ret_tmp = (tmp_df.iloc[4, 3] / tmp_df.iloc[0, 0] - 1) * 100\n",
    "        ret_list.append(ret_tmp)\n",
    "    result_df['수익률'] = ret_list\n",
    "    return result_df"
   ]
  },
  {
   "cell_type": "code",
   "execution_count": 156,
   "metadata": {
    "scrolled": true
   },
   "outputs": [
    {
     "data": {
      "image/png": "[encoded data removed]",
      "text/plain": "<Figure size 432x432 with 1 Axes>"
     },
     "metadata": {
      "needs_background": "light"
     },
     "output_type": "display_data"
    }
   ],
   "source": [
    "a_df = volume_ret_df(\"20200101\", \"20210131\", \"20200101\", \"20210131\")\n",
    "plt.figure(figsize = (6, 6))\n",
    "plt.scatter(a_df['외국인거래량'], a_df['수익률'], c = 'r', label = '외국인')\n",
    "plt.scatter(a_df['개인거래량'], a_df['수익률'], c = 'b', label = '개인')\n",
    "\n",
    "plt.legend()\n",
    "plt.show()"
   ]
  },
  {
   "cell_type": "code",
   "execution_count": 157,
   "metadata": {},
   "outputs": [],
   "source": [
    "biases = np.ones((100, 1))\r\n",
    "\r\n",
    "label_a = np.zeros((100, 1))\r\n",
    "label_b = np.ones((100, 1))\r\n",
    "y_tmp = a_df['수익률']\r\n",
    "x1_tmp = a_df['외국인거래량']\r\n",
    "x2_tmp = a_df['개인거래량']\r\n",
    "\r\n",
    "y = y_tmp.values.reshape(-1, 1)\r\n",
    "x1 = x1_tmp.values.reshape(-1, 1)\r\n",
    "x2 = x2_tmp.values.reshape(-1, 1)\r\n",
    "\r\n",
    "b_x1 = list(zip(biases, x1))\r\n",
    "b_x1_tmp = np.array(b_x1)\r\n",
    "b_x1_rs = b_x1_tmp.reshape(-1, 2)\r\n",
    "p = np.hstack((b_x1_rs, y))\r\n",
    "dataset_a = np.hstack((p,label_a))\r\n",
    "\r\n",
    "b_x2 = list(zip(biases, x2))\r\n",
    "b_x2_tmp = np.array(b_x2)\r\n",
    "b_x2_rs = b_x2_tmp.reshape(-1, 2)\r\n",
    "q = np.hstack((b_x2_rs, y))\r\n",
    "dataset_b = np.hstack((q,label_b))\r\n",
    "\r\n",
    "dataset = np.vstack((dataset_a, dataset_b))"
   ]
  },
  {
   "cell_type": "code",
   "execution_count": 158,
   "metadata": {},
   "outputs": [
    {
     "data": {
      "image/png": "[encoded data removed]",
      "text/plain": "<Figure size 432x288 with 1 Axes>"
     },
     "metadata": {
      "needs_background": "light"
     },
     "output_type": "display_data"
    }
   ],
   "source": [
    "plt.scatter(dataset[:, 1][:100], dataset[:, 2][:100], c = 'r', label='외국인')\r\n",
    "plt.scatter(dataset[:, 1][100:], dataset[:, 2][100:], c = 'b', label='개인')\r\n",
    "\r\n",
    "plt.legend()\r\n",
    "plt.show()"
   ]
  },
  {
   "cell_type": "code",
   "execution_count": 159,
   "metadata": {},
   "outputs": [
    {
     "name": "stdout",
     "output_type": "stream",
     "text": [
      "[ 1.00000000e+00 -8.04976700e+06 -1.86028645e+00]\n"
     ]
    }
   ],
   "source": [
    "np.random.shuffle(dataset)\r\n",
    "\r\n",
    "split_ratio = 0.7\r\n",
    "\r\n",
    "train = dataset[0:int(split_ratio * 200)]\r\n",
    "test = dataset[int(split_ratio * 200):200]\r\n",
    "\r\n",
    "x_train = train[:, 0:3]\r\n",
    "y_train = train[:, 3]\r\n",
    "\r\n",
    "x_test = test[:, 0:3]\r\n",
    "y_test = test[:, 3]\r\n",
    "\r\n",
    "print(x_train[0])"
   ]
  },
  {
   "cell_type": "code",
   "execution_count": 160,
   "metadata": {},
   "outputs": [],
   "source": [
    "def train_perceptron(w, x, y, epoch=30):\r\n",
    "    w = np.zeros(len(x[0]))\r\n",
    "    for i in range(epoch):\r\n",
    "        for j in range(len(y)):\r\n",
    "            output = np.dot(x[j][1:], w[1:]) + w[0]\r\n",
    "            tmp = np.where(output > 0 , 1, 0)\r\n",
    "            update = 0.01 * (y[j] - tmp)\r\n",
    "            w[1] += update * x[j][1]\r\n",
    "            w[2] += update * x[j][2]\r\n",
    "            w[0] += update\r\n",
    "    return w\r\n",
    "\r\n",
    "def x2(x1, w):\r\n",
    "    w0 = w[0]\r\n",
    "    w1 = w[1]\r\n",
    "    w2 = w[2]\r\n",
    "    x2 = []\r\n",
    "    for i in range(len(x1 - 1)):\r\n",
    "        x2_temp = (-w0 -w1 * x1[i]) / w2\r\n",
    "        x2.append(x2_temp)\r\n",
    "    return x2\r\n",
    "\r\n",
    "def show_plt(w, class_data, labels):\r\n",
    "    len_w = len(w)\r\n",
    "    sh_data = class_data.shape\r\n",
    "    if len_w != sh_data[1]:\r\n",
    "        print('error: w and data dimension does not match')\r\n",
    "        return\r\n",
    "    \r\n",
    "    if len_w == 3:\r\n",
    "        class_data = class_data[:,1:]\r\n",
    "\r\n",
    "    min = np.min(class_data[:, 0])\r\n",
    "    max = np.max(class_data[:, 0])\r\n",
    "    \r\n",
    "    x1 = np.linspace(min, max, 100)\r\n",
    "    x1 = x1.reshape(len(x1),1)\r\n",
    "    x_2 = np.asarray(x2(x1, w))\r\n",
    "    \r\n",
    "    data_zeros = class_data[labels == 0]\r\n",
    "    data_ones = class_data[labels == 1]\r\n",
    "\r\n",
    "    plt.ylim(-15, 10)\r\n",
    "    plt.scatter(data_zeros[:, 0], data_zeros[:, 1], c = 'r', label='0')\r\n",
    "    plt.scatter(data_ones[:, 0], data_ones[:, 1], c = 'b', label='1')\r\n",
    "    plt.plot(x1, x_2)\r\n",
    "\r\n",
    "    plt.legend()\r\n",
    "    plt.show()"
   ]
  },
  {
   "cell_type": "code",
   "execution_count": 161,
   "metadata": {},
   "outputs": [
    {
     "name": "stdout",
     "output_type": "stream",
     "text": [
      "The weights are: [-3.36000000e+00  6.22082300e+04  1.02257952e+01]\n"
     ]
    },
    {
     "data": {
      "image/png": "[encoded data removed]",
      "text/plain": "<Figure size 432x288 with 1 Axes>"
     },
     "metadata": {
      "needs_background": "light"
     },
     "output_type": "display_data"
    }
   ],
   "source": [
    "w = train_perceptron(w, x_train, y_train)\r\n",
    "\r\n",
    "print(\"The weights are:\", w)\r\n",
    "show_plt(w, x_train, y_train)"
   ]
  }
 ],
 "metadata": {
  "kernelspec": {
   "display_name": "Python 3.7.1 64-bit ('base': conda)",
   "name": "python371jvsc74a57bd064ded2e876ce095d7a5ec0d9c312142c91bd3089b001f7af03d9e5e8051250da"
  },
  "language_info": {
   "codemirror_mode": {
    "name": "ipython",
    "version": 3
   },
   "file_extension": ".py",
   "mimetype": "text/x-python",
   "name": "python",
   "nbconvert_exporter": "python",
   "pygments_lexer": "ipython3",
   "version": "3.7.1"
  }
 },
 "nbformat": 4,
 "nbformat_minor": 2
}