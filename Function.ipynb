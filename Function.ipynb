{
 "cells": [
  {
   "cell_type": "code",
   "execution_count": 1,
   "metadata": {},
   "outputs": [],
   "source": [
    "import numpy as np\r\n",
    "import matplotlib.pyplot as plt"
   ]
  },
  {
   "cell_type": "markdown",
   "metadata": {},
   "source": [
    "## Perceptron"
   ]
  },
  {
   "cell_type": "code",
   "execution_count": 2,
   "metadata": {},
   "outputs": [],
   "source": [
    "def train_perceptron(w, x, y, epoch=30):\n",
    "    min_epoch = epoch\n",
    "    count = 1               # epoch count\n",
    "    flag = 0                # update 여부를 확인하기 위한 flag\n",
    "    w = np.zeros(len(x[0]))\n",
    "    for i in range(epoch):\n",
    "        for j in range(len(y)):\n",
    "            output = np.dot(x[j][1:], w[1:]) + w[0]\n",
    "            tmp = np.where(output > 0 , 1, 0)\n",
    "            update = 0.01 * (y[j] - tmp)\n",
    "            w[1] += update * x[j][1]\n",
    "            w[2] += update * x[j][2]\n",
    "            w[0] += update\n",
    "            if update != 0:         # update가 0이 아닐 경우 w에 변화가 있다 -> 최소 epoch 변화\n",
    "                flag = 1\n",
    "        if flag == 1:               # 1 epoch가 끝난 후 flag 수치 변화를 확인, flag가 1일 경우 min_epoch 업데이트\n",
    "            min_epoch = count\n",
    "            flag = 0                # flag 초기화\n",
    "        count += 1\n",
    "    return w, min_epoch\n",
    "\n",
    "def x2(x1, w):\n",
    "    w0 = w[0]\n",
    "    w1 = w[1]\n",
    "    w2 = w[2]\n",
    "    x2 = []\n",
    "    for i in range(len(x1 - 1)):\n",
    "        x2_temp = (-w0 -w1 * x1[i]) / w2\n",
    "        x2.append(x2_temp)\n",
    "    return x2\n",
    "\n",
    "def show_plt(w, class_data, labels):\n",
    "#   w and class_data are 2-element with no bias, and 3-element with bias\n",
    "    len_w = len(w)\n",
    "    sh_data = class_data.shape\n",
    "    if len_w != sh_data[1]:\n",
    "        print('error: w and data dimension does not match')\n",
    "        return\n",
    "    \n",
    "    if len_w == 3:\n",
    "        class_data = class_data[:,1:]\n",
    "        \n",
    "    min = np.min(class_data[:, 0])\n",
    "    max = np.max(class_data[:, 0])\n",
    "    \n",
    "    x1 = np.linspace(min, max, 100)\n",
    "    x1 = x1.reshape(len(x1),1)\n",
    "    x_2 = np.asarray(x2(x1, w))\n",
    "    \n",
    "    data_zeros = class_data[labels == 0]\n",
    "    data_ones = class_data[labels == 1]\n",
    "    \n",
    "    plt.scatter(data_zeros[:, 0], data_zeros[:, 1], c = 'r', label='0')\n",
    "    plt.scatter(data_ones[:, 0], data_ones[:, 1], c = 'b', label='1')\n",
    "    plt.plot(x1, x_2)\n",
    "\n",
    "    plt.legend()\n",
    "    plt.show()"
   ]
  },
  {
   "cell_type": "markdown",
   "metadata": {},
   "source": [
    "## Linear Regression"
   ]
  },
  {
   "cell_type": "code",
   "execution_count": 3,
   "metadata": {
    "scrolled": true
   },
   "outputs": [
    {
     "data": {
      "text/plain": [
       "'\\nfrom sklearn.linear_model import LinearRegression\\nimport pandas as pd\\nimport numpy as np\\nimport matplotlib.pyplot as plt\\n\\n#df = ....\\n\\nX = df[\"외인수급량\"]\\nY = df[\"수익률\"]\\n\\ndef linear_regression(X,Y): #회귀분석 함수\\n  model = LinearRegression()\\n  model.fit(X.values.reshape(-1,1),Y)\\n\\n  plt.title(\\'Linear Regression result\\')\\n  plt.plot(X,Y,\\'o\\')\\n  plt.plot(X,model.predict(X.values.reshape(-1,1)))\\n  plt.show()\\n  print(model.coef_) #기울기\\n  print(model.intercept_) #y절편\\n'"
      ]
     },
     "execution_count": 3,
     "metadata": {},
     "output_type": "execute_result"
    }
   ],
   "source": [
    "'''\n",
    "from sklearn.linear_model import LinearRegression\n",
    "import pandas as pd\n",
    "import numpy as np\n",
    "import matplotlib.pyplot as plt\n",
    "\n",
    "#df = ....\n",
    "\n",
    "X = df[\"외인수급량\"]\n",
    "Y = df[\"수익률\"]\n",
    "\n",
    "def linear_regression(X,Y): #회귀분석 함수\n",
    "  model = LinearRegression()\n",
    "  model.fit(X.values.reshape(-1,1),Y)\n",
    "\n",
    "  plt.title('Linear Regression result')\n",
    "  plt.plot(X,Y,'o')\n",
    "  plt.plot(X,model.predict(X.values.reshape(-1,1)))\n",
    "  plt.show()\n",
    "  print(model.coef_) #기울기\n",
    "  print(model.intercept_) #y절편\n",
    "'''"
   ]
  },
  {
   "cell_type": "code",
   "execution_count": 5,
   "metadata": {},
   "outputs": [],
   "source": [
    "def DTW(A, B, window=float(\"inf\"), d=lambda x, y: abs(x - y)):\r\n",
    "\r\n",
    "    A, B = np.array(A), np.array(B)\r\n",
    "    M, N = len(A), len(B)\r\n",
    "    cost = float(\"inf\") * np.ones((M, N))\r\n",
    "\r\n",
    "    cost[0, 0] = d(A[0], B[0])\r\n",
    "    for i in range(1, M):\r\n",
    "        cost[i, 0] = cost[i - 1, 0] + d(A[i], B[0])\r\n",
    "\r\n",
    "    for j in range(1, N):\r\n",
    "        cost[0, j] = cost[0, j - 1] + d(A[0], B[j])\r\n",
    "    for i in range(1, M):\r\n",
    "        for j in range(max(1, i - window), min(N, i + window)):\r\n",
    "            choices = cost[i - 1, j - 1], cost[i, j - 1], cost[i - 1, j]\r\n",
    "            cost[i, j] = min(choices) + d(A[i], B[j])\r\n",
    "\r\n",
    "    n, m = N - 1, M - 1\r\n",
    "    path = []\r\n",
    "\r\n",
    "    while (m, n) != (0, 0):\r\n",
    "        path.append((m, n))\r\n",
    "        m, n = min((m - 1, n), (m, n - 1), (m - 1, n - 1), key=lambda x: cost[x[0], x[1]])\r\n",
    "\r\n",
    "    path.append((0, 0))\r\n",
    "    return cost[-1, -1], path"
   ]
  }
 ],
 "metadata": {
  "kernelspec": {
   "display_name": "Python 3.7.1 64-bit ('base': conda)",
   "name": "python371jvsc74a57bd064ded2e876ce095d7a5ec0d9c312142c91bd3089b001f7af03d9e5e8051250da"
  },
  "language_info": {
   "name": "python",
   "version": ""
  }
 },
 "nbformat": 4,
 "nbformat_minor": 2
}