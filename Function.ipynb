{
 "cells": [
  {
   "cell_type": "markdown",
   "metadata": {},
   "source": [
    "## Perceptron"
   ]
  },
  {
   "cell_type": "code",
   "execution_count": null,
   "metadata": {},
   "outputs": [],
   "source": [
    "def train_perceptron(w, x, y, epoch=30):\r\n",
    "    min_epoch = epoch\r\n",
    "    count = 1               # epoch count\r\n",
    "    flag = 0                # update 여부를 확인하기 위한 flag\r\n",
    "    w = np.zeros(len(x[0]))\r\n",
    "    for i in range(epoch):\r\n",
    "        for j in range(len(y)):\r\n",
    "            output = np.dot(x[j][1:], w[1:]) + w[0]\r\n",
    "            tmp = np.where(output > 0 , 1, 0)\r\n",
    "            update = 0.01 * (y[j] - tmp)\r\n",
    "            w[1] += update * x[j][1]\r\n",
    "            w[2] += update * x[j][2]\r\n",
    "            w[0] += update\r\n",
    "            if update != 0:         # update가 0이 아닐 경우 w에 변화가 있다 -> 최소 epoch 변화\r\n",
    "                flag = 1\r\n",
    "        if flag == 1:               # 1 epoch가 끝난 후 flag 수치 변화를 확인, flag가 1일 경우 min_epoch 업데이트\r\n",
    "            min_epoch = count\r\n",
    "            flag = 0                # flag 초기화\r\n",
    "        count += 1\r\n",
    "    return w, min_epoch"
   ]
  }
 ],
 "metadata": {
  "kernelspec": {
   "display_name": "Python 3.7.1 64-bit (conda)",
   "name": "python371jvsc74a57bd064ded2e876ce095d7a5ec0d9c312142c91bd3089b001f7af03d9e5e8051250da"
  },
  "language_info": {
   "name": "python",
   "version": ""
  },
  "orig_nbformat": 2
 },
 "nbformat": 4,
 "nbformat_minor": 2
}