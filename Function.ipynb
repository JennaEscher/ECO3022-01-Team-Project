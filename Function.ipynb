{
 "cells": [
  {
   "cell_type": "markdown",
   "metadata": {},
   "source": [
    "## Perceptron"
   ]
  },
  {
   "cell_type": "code",
   "execution_count": null,
   "metadata": {},
   "outputs": [],
   "source": [
    "def train_perceptron(w, x, y, epoch=30):\n",
    "    min_epoch = epoch\n",
    "    count = 1               # epoch count\n",
    "    flag = 0                # update 여부를 확인하기 위한 flag\n",
    "    w = np.zeros(len(x[0]))\n",
    "    for i in range(epoch):\n",
    "        for j in range(len(y)):\n",
    "            output = np.dot(x[j][1:], w[1:]) + w[0]\n",
    "            tmp = np.where(output > 0 , 1, 0)\n",
    "            update = 0.01 * (y[j] - tmp)\n",
    "            w[1] += update * x[j][1]\n",
    "            w[2] += update * x[j][2]\n",
    "            w[0] += update\n",
    "            if update != 0:         # update가 0이 아닐 경우 w에 변화가 있다 -> 최소 epoch 변화\n",
    "                flag = 1\n",
    "        if flag == 1:               # 1 epoch가 끝난 후 flag 수치 변화를 확인, flag가 1일 경우 min_epoch 업데이트\n",
    "            min_epoch = count\n",
    "            flag = 0                # flag 초기화\n",
    "        count += 1\n",
    "    return w, min_epoch"
   ]
  },
  {
   "cell_type": "code",
   "execution_count": null,
   "metadata": {},
   "outputs": [],
   "source": [
    "from sklearn.linear_model import LinearRegression\n",
    "import pandas as pd\n",
    "import numpy as np\n",
    "import matplotlib.pyplot as plt\n",
    "\n",
    "#df = ....\n",
    "\n",
    "X = df[\"외인수급량\"]\n",
    "Y = df[\"수익률\"]\n",
    "\n",
    "def linear_regression(X,Y): #회귀분석 함수\n",
    "  model = LinearRegression()\n",
    "  model.fit(X.values.reshape(-1,1),Y)\n",
    "\n",
    "  plt.title('Linear Regression result')\n",
    "  plt.plot(X,Y,'o')\n",
    "  plt.plot(X,model.predict(X.values.reshape(-1,1)))\n",
    "  plt.show()\n",
    "  print(model.coef_) #기울기\n",
    "  print(model.intercept_) #y절편"
   ]
  },
  
  {
   "cell_type": "code",
   "execution_count": null,
   "metadata": {},
   "outputs": [],
   "source": [
    "from sklearn.model_selection import train_test_split     ## train, test 데이터 분할\n",
    "from sklearn import svm\n",
    "import matplotlib.pyplot as plt \n",
    "\n",
    "data = pd.DataFrame(raw.data)              ## 독립변수 데이터 모음\n",  
    "target = pd.DataFrame(raw.target)           ## 종속변수 데이터 모음\n",
    "rawData = pd.concat([data,target], axis=1)  ## 독립변수 + 종속변수 열 결합\n",
    "\n",
    "#x = ....\n",
    "\n",
    "def SVM(x,y):\n",
    "  x_train, x_test, y_train, y_test = train_test_split(x,y,test_size=0.25, random_state=0)\n",
    "  clf = svm.SVC(kernel='linear')\n",
    "  clf.fit(x_train, y_train)\n",
    "  clf.predict(x_test)\n",
    "  clf.score(x_test, y_test)\n"
   ]
  }

 ],
 "metadata": {
  "kernelspec": {
   "display_name": "Python 3.7.1 64-bit (conda)",
   "name": "python371jvsc74a57bd064ded2e876ce095d7a5ec0d9c312142c91bd3089b001f7af03d9e5e8051250da"
  },
  "language_info": {
   "name": "python",
   "version": ""
  },
  "orig_nbformat": 2
 },
 "nbformat": 4,
 "nbformat_minor": 2
}
