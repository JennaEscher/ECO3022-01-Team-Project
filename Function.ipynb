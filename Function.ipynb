{
 "cells": [
  {
   "cell_type": "code",
   "execution_count": 1,
   "metadata": {},
   "outputs": [],
   "source": [
    "import numpy as np\r\n",
    "import matplotlib.pyplot as plt"
   ]
  },
  {
   "cell_type": "markdown",
   "metadata": {},
   "source": [
    "## Linear Regression"
   ]
  },
  {
   "cell_type": "code",
   "execution_count": 3,
   "metadata": {
    "scrolled": true
   },
   "outputs": [
    {
     "data": {
      "text/plain": [
       "'\\nfrom sklearn.linear_model import LinearRegression\\nimport pandas as pd\\nimport numpy as np\\nimport matplotlib.pyplot as plt\\n\\n#df = ....\\n\\nX = df[\"외인수급량\"]\\nY = df[\"수익률\"]\\n\\ndef linear_regression(X,Y): #회귀분석 함수\\n  model = LinearRegression()\\n  model.fit(X.values.reshape(-1,1),Y)\\n\\n  plt.title(\\'Linear Regression result\\')\\n  plt.plot(X,Y,\\'o\\')\\n  plt.plot(X,model.predict(X.values.reshape(-1,1)))\\n  plt.show()\\n  print(model.coef_) #기울기\\n  print(model.intercept_) #y절편\\n'"
      ]
     },
     "execution_count": 3,
     "metadata": {},
     "output_type": "execute_result"
    }
   ],
   "source": [
    "'''\n",
    "from sklearn.linear_model import LinearRegression\n",
    "import pandas as pd\n",
    "import numpy as np\n",
    "import matplotlib.pyplot as plt\n",
    "\n",
    "#df = ....\n",
    "\n",
    "X = df[\"외인수급량\"]\n",
    "Y = df[\"수익률\"]\n",
    "\n",
    "def linear_regression(X,Y): #회귀분석 함수\n",
    "  model = LinearRegression()\n",
    "  model.fit(X.values.reshape(-1,1),Y)\n",
    "\n",
    "  plt.title('Linear Regression result')\n",
    "  plt.plot(X,Y,'o')\n",
    "  plt.plot(X,model.predict(X.values.reshape(-1,1)))\n",
    "  plt.show()\n",
    "  print(model.coef_) #기울기\n",
    "  print(model.intercept_) #y절편\n",
    "'''"
   ]
  },
  {
   "cell_type": "code",
   "execution_count": 2,
   "metadata": {},
   "outputs": [],
   "source": [
    "def DTW(A, B, window=float(\"inf\"), d=lambda x, y: abs(x - y)):\r\n",
    "    A, B = np.array(A), np.array(B)\r\n",
    "    M, N = len(A), len(B)\r\n",
    "    cost = float(\"inf\") * np.ones((M, N))\r\n",
    "\r\n",
    "    cost[0, 0] = d(A[0], B[0])\r\n",
    "    for i in range(1, M):\r\n",
    "        cost[i, 0] = cost[i - 1, 0] + d(A[i], B[0])\r\n",
    "\r\n",
    "    for j in range(1, N):\r\n",
    "        cost[0, j] = cost[0, j - 1] + d(A[0], B[j])\r\n",
    "    for i in range(1, M):\r\n",
    "        for j in range(max(1, i - window), min(N, i + window)):\r\n",
    "            choices = cost[i - 1, j - 1], cost[i, j - 1], cost[i - 1, j]\r\n",
    "            cost[i, j] = min(choices) + d(A[i], B[j])\r\n",
    "\r\n",
    "    n, m = N - 1, M - 1\r\n",
    "    path = []\r\n",
    "\r\n",
    "    while (m, n) != (0, 0):\r\n",
    "        path.append((m, n))\r\n",
    "        m, n = min((m - 1, n), (m, n - 1), (m - 1, n - 1), key=lambda x: cost[x[0], x[1]])\r\n",
    "\r\n",
    "    path.append((0, 0))\r\n",
    "    return cost[-1, -1], path"
   ]
  }
 ],
 "metadata": {
  "kernelspec": {
   "display_name": "Python 3.7.1 64-bit ('base': conda)",
   "name": "python371jvsc74a57bd064ded2e876ce095d7a5ec0d9c312142c91bd3089b001f7af03d9e5e8051250da"
  },
  "language_info": {
   "codemirror_mode": {
    "name": "ipython",
    "version": 3
   },
   "file_extension": ".py",
   "mimetype": "text/x-python",
   "name": "python",
   "nbconvert_exporter": "python",
   "pygments_lexer": "ipython3",
   "version": "3.7.1"
  }
 },
 "nbformat": 4,
 "nbformat_minor": 2
}