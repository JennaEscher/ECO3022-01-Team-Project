{
 "cells": [
  {
   "cell_type": "code",
   "execution_count": 1,
   "metadata": {},
   "outputs": [],
   "source": [
    "import numpy as np\r\n",
    "import matplotlib.pyplot as plt"
   ]
  },
  {
   "cell_type": "markdown",
   "metadata": {},
   "source": [
    "## Perceptron"
   ]
  },
  {
   "cell_type": "code",
   "execution_count": null,
   "metadata": {},
   "outputs": [],
   "source": [
    "def train_perceptron(w, x, y, epoch=30):\r\n",
    "    min_epoch = epoch\r\n",
    "    count = 1               # epoch count\r\n",
    "    flag = 0                # update 여부를 확인하기 위한 flag\r\n",
    "    w = np.zeros(len(x[0]))\r\n",
    "    for i in range(epoch):\r\n",
    "        for j in range(len(y)):\r\n",
    "            output = np.dot(x[j][1:], w[1:]) + w[0]\r\n",
    "            tmp = np.where(output > 0 , 1, 0)\r\n",
    "            update = 0.01 * (y[j] - tmp)\r\n",
    "            w[1] += update * x[j][1]\r\n",
    "            w[2] += update * x[j][2]\r\n",
    "            w[0] += update\r\n",
    "            if update != 0:         # update가 0이 아닐 경우 w에 변화가 있다 -> 최소 epoch 변화\r\n",
    "                flag = 1\r\n",
    "        if flag == 1:               # 1 epoch가 끝난 후 flag 수치 변화를 확인, flag가 1일 경우 min_epoch 업데이트\r\n",
    "            min_epoch = count\r\n",
    "            flag = 0                # flag 초기화\r\n",
    "        count += 1\r\n",
    "    return w, min_epoch\r\n",
    "\r\n",
    "def x2(x1, w):\r\n",
    "    w0 = w[0]\r\n",
    "    w1 = w[1]\r\n",
    "    w2 = w[2]\r\n",
    "    x2 = []\r\n",
    "    for i in range(len(x1 - 1)):\r\n",
    "        x2_temp = (-w0 -w1 * x1[i]) / w2\r\n",
    "        x2.append(x2_temp)\r\n",
    "    return x2\r\n",
    "\r\n",
    "def show_plt(w, class_data, labels):\r\n",
    "#   w and class_data are 2-element with no bias, and 3-element with bias\r\n",
    "    len_w = len(w)\r\n",
    "    sh_data = class_data.shape\r\n",
    "    if len_w != sh_data[1]:\r\n",
    "        print('error: w and data dimension does not match')\r\n",
    "        return\r\n",
    "    \r\n",
    "    if len_w == 3:\r\n",
    "        class_data = class_data[:,1:]\r\n",
    "        \r\n",
    "    min = np.min(class_data[:, 0])\r\n",
    "    max = np.max(class_data[:, 0])\r\n",
    "    \r\n",
    "    x1 = np.linspace(min, max, 100)\r\n",
    "    x1 = x1.reshape(len(x1),1)\r\n",
    "    x_2 = np.asarray(x2(x1, w))\r\n",
    "    \r\n",
    "    data_zeros = class_data[labels == 0]\r\n",
    "    data_ones = class_data[labels == 1]\r\n",
    "    \r\n",
    "    plt.scatter(data_zeros[:, 0], data_zeros[:, 1], c = 'r', label='0')\r\n",
    "    plt.scatter(data_ones[:, 0], data_ones[:, 1], c = 'b', label='1')\r\n",
    "    plt.plot(x1, x_2)\r\n",
    "\r\n",
    "    plt.legend()\r\n",
    "    plt.show()"
   ]
  },
  {
   "cell_type": "markdown",
   "metadata": {},
   "source": [
    "## Linear Regression"
   ]
  },
  {
   "cell_type": "code",
   "execution_count": null,
   "metadata": {},
   "outputs": [],
   "source": [
    "'''\r\n",
    "from sklearn.linear_model import LinearRegression\r\n",
    "import pandas as pd\r\n",
    "import numpy as np\r\n",
    "import matplotlib.pyplot as plt\r\n",
    "\r\n",
    "#df = ....\r\n",
    "\r\n",
    "X = df[\"외인수급량\"]\r\n",
    "Y = df[\"수익률\"]\r\n",
    "\r\n",
    "def linear_regression(X,Y): #회귀분석 함수\r\n",
    "  model = LinearRegression()\r\n",
    "  model.fit(X.values.reshape(-1,1),Y)\r\n",
    "\r\n",
    "  plt.title('Linear Regression result')\r\n",
    "  plt.plot(X,Y,'o')\r\n",
    "  plt.plot(X,model.predict(X.values.reshape(-1,1)))\r\n",
    "  plt.show()\r\n",
    "  print(model.coef_) #기울기\r\n",
    "  print(model.intercept_) #y절편\r\n",
    "'''"
   ]
  }
 ],
 "metadata": {
  "kernelspec": {
   "display_name": "Python 3.7.1 64-bit ('base': conda)",
   "name": "python371jvsc74a57bd064ded2e876ce095d7a5ec0d9c312142c91bd3089b001f7af03d9e5e8051250da"
  },
  "language_info": {
   "codemirror_mode": {
    "name": "ipython",
    "version": 3
   },
   "file_extension": ".py",
   "mimetype": "text/x-python",
   "name": "python",
   "nbconvert_exporter": "python",
   "pygments_lexer": "ipython3",
   "version": "3.7.1"
  },
  "orig_nbformat": 2
 },
 "nbformat": 4,
 "nbformat_minor": 2
}