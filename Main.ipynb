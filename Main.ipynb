{
 "cells": [
  {
   "cell_type": "code",
   "execution_count": 1,
   "metadata": {},
   "outputs": [],
   "source": [
    "# Initial Setting\r\n",
    "import numpy as np\r\n",
    "import pandas as pd\r\n",
    "import matplotlib.pyplot as plt \r\n",
    "from pykrx import stock"
   ]
  },
  {
   "cell_type": "code",
   "execution_count": 2,
   "metadata": {},
   "outputs": [],
   "source": [
    "kospi_200 = stock.get_index_portfolio_deposit_file(\"1028\")"
   ]
  },
  {
   "cell_type": "code",
   "execution_count": 3,
   "metadata": {},
   "outputs": [],
   "source": [
    "df = pd.DataFrame(columns=['시가', '고가', '저가', '종가', '거래량', '종목명', '종목코드'])\r\n",
    "for i in kospi_200:\r\n",
    "    tmp_df = stock.get_market_ohlcv_by_date(\"20200101\", \"20210101\", i, \"y\")\r\n",
    "    name = stock.get_market_ticker_name(i)\r\n",
    "    tmp_df['종목명'] = name\r\n",
    "    tmp_df['종목코드'] = i\r\n",
    "    df = df.append(tmp_df)"
   ]
  },
  {
   "cell_type": "markdown",
   "metadata": {},
   "source": [
    "거래량 순으로 정렬:"
   ]
  },
  {
   "cell_type": "code",
   "execution_count": 4,
   "metadata": {},
   "outputs": [
    {
     "name": "stdout",
     "output_type": "stream",
     "text": [
      "                시가      고가     저가      종가           거래량      종목명    종목코드\n",
      "2020-12-31   55500   81300  42300   81000  5.471749e+09     삼성전자  005930\n",
      "2020-12-31    3305    7980   2920    4695  3.397658e+09    남선알미늄  008350\n",
      "2020-12-31    7270    7930   3070    7040  2.263565e+09    삼성중공업  010140\n",
      "2020-12-31    5550   10550   2500    7920  2.128066e+09  두산인프라코어  042670\n",
      "2020-12-31    7330  214000      0  124000  2.036548e+09     신풍제약  019170\n",
      "2020-12-31    2315    2870    881    2440  1.870908e+09     한화생명  088350\n",
      "2020-12-31   23257   29713      0   18000  1.699525e+09   아시아나항공  020560\n",
      "2020-12-31    5263   17700   2200   13500  1.497275e+09    두산중공업  034020\n",
      "2020-12-31    6650   12800   3530    8040  1.351267e+09     영진약품  003520\n",
      "2020-12-31    3555   15250   2120   13950  1.163048e+09      HMM  011200\n",
      "2020-12-31   13112   42537  11285   28100  1.068908e+09     부광약품  003000\n",
      "2020-12-31   96000  121000  65800  118500  1.027574e+09   SK하이닉스  000660\n",
      "2020-12-31   28100   30050  15550   27400  9.467680e+08     한국전력  015760\n",
      "2020-12-31   18223   52342   9082   46430  8.834500e+08    한화솔루션  009830\n",
      "2020-12-31    4530    5090   2055    5020  8.468870e+08      팬오션  028670\n",
      "2020-12-31    7550   10700   3505    9440  7.992684e+08   미래에셋증권  006800\n",
      "2020-12-31   16450   20750   8850   18550  7.766159e+08  LG디스플레이  034220\n",
      "2020-12-31    8170   12700   4600   11800  7.544819e+08       후성  093370\n",
      "2020-12-31    3795    4055   2020    3665  6.874121e+08    메리츠증권  008560\n",
      "2020-12-31   18479   23378   8299   21091  6.698449e+08     대한항공  003490\n",
      "2020-12-31    8664   61325      0   53500  6.453774e+08    두산퓨얼셀  336260\n",
      "2020-12-31    4730    5450   2250    4985  6.413617e+08     대우건설  047040\n",
      "2020-12-31   43100   43450  21850   32050  5.867987e+08     신한지주  055550\n",
      "2020-12-31   14200   14650   9210   11750  5.809277e+08   LG유플러스  032640\n",
      "2020-12-31   11750   11800   5860    8840  5.714762e+08     기업은행  024110\n",
      "2020-12-31   11600   11750   6320    9730  5.512259e+08   우리금융지주  316140\n",
      "2020-12-31   47250   48700  25850   43400  5.247722e+08     KB금융  105560\n",
      "2020-12-31   44100   66600  21500   62400  5.213854e+08       기아  000270\n",
      "2020-12-31   19300   19550   6910   13250  5.091445e+08  삼성엔지니어링  028050\n",
      "2020-12-31  121000  199000  65000  192000  5.066884e+08      현대차  005380\n"
     ]
    }
   ],
   "source": [
    "sorted_df = df.sort_values(by=['거래량'], axis=0, ascending = False)\r\n",
    "print(sorted_df.head(30))\r\n",
    "code_df = sorted_df.iloc[:30, 6]"
   ]
  },
  {
   "cell_type": "code",
   "execution_count": 5,
   "metadata": {},
   "outputs": [],
   "source": [
    "def volume_ret_df(date_1, date_2, date_3, date_4):\r\n",
    "    code_list = []\r\n",
    "    name_list = []\r\n",
    "    f_list = []\r\n",
    "    o_list = []\r\n",
    "    for i in range(len(code_df)):\r\n",
    "        code_tmp = code_df[i]\r\n",
    "        name_tmp = stock.get_market_ticker_name(code_tmp)\r\n",
    "        volume_df = stock.get_market_trading_volume_by_date(date_1, date_2, code_tmp)\r\n",
    "        code_list.append(code_tmp)\r\n",
    "        name_list.append(name_tmp)\r\n",
    "        f_list.append(volume_df['외국인합계'].sum())\r\n",
    "        o_list.append(volume_df['기관합계'].sum())\r\n",
    "    result_df = pd.DataFrame(columns=['종목코드', '종목명', '외국인거래량', '기관거래량', '수익률'])\r\n",
    "    result_df['종목코드'] = code_list\r\n",
    "    result_df['종목명'] = name_list\r\n",
    "    result_df['외국인거래량'] = f_list\r\n",
    "    result_df['기관거래량'] = o_list\r\n",
    "    ret_list = []\r\n",
    "    for i in range(len(code_df)):\r\n",
    "        code_tmp = code_df[i]\r\n",
    "        tmp_df = stock.get_market_ohlcv_by_date(date_3, date_4, code_tmp)\r\n",
    "        ret_tmp = (tmp_df.iloc[4, 3] / tmp_df.iloc[0, 0] - 1) * 100\r\n",
    "        ret_list.append(ret_tmp)\r\n",
    "    result_df['수익률'] = ret_list\r\n",
    "    return result_df"
   ]
  },
  {
   "cell_type": "code",
   "execution_count": 6,
   "metadata": {},
   "outputs": [
    {
     "data": {
      "text/plain": "<matplotlib.collections.PathCollection at 0x21fc29e4390>"
     },
     "execution_count": 6,
     "metadata": {},
     "output_type": "execute_result"
    },
    {
     "data": {
      "image/png": "[encoded data removed]",
      "text/plain": "<Figure size 432x288 with 1 Axes>"
     },
     "metadata": {
      "needs_background": "light"
     },
     "output_type": "display_data"
    }
   ],
   "source": [
    "a_df = volume_ret_df(\"20200101\", \"20200229\", \"20200301\", \"20200430\")\r\n",
    "plt.scatter(a_df['외국인거래량'], a_df['수익률'])"
   ]
  }
 ],
 "metadata": {
  "kernelspec": {
   "display_name": "Python 3.7.1 64-bit ('base': conda)",
   "name": "python371jvsc74a57bd064ded2e876ce095d7a5ec0d9c312142c91bd3089b001f7af03d9e5e8051250da"
  },
  "language_info": {
   "codemirror_mode": {
    "name": "ipython",
    "version": 3
   },
   "file_extension": ".py",
   "mimetype": "text/x-python",
   "name": "python",
   "nbconvert_exporter": "python",
   "pygments_lexer": "ipython3",
   "version": "3.7.1"
  },
  "orig_nbformat": 2
 },
 "nbformat": 4,
 "nbformat_minor": 2
}