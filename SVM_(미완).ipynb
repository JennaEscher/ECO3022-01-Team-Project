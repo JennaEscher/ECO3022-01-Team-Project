{
 "cells": [
  {
   "cell_type": "code",
   "execution_count": null,
   "metadata": {},
   "outputs": [],
   "source": [
    "import numpy as np\n",
    "import pandas as pd\n",
    "from pykrx import stock\n",
    "\n",
    "df_1= stock.get_market_net_purchases_of_equities_by_ticker(\"20200101\", \"20210101\", \"KOSPI200\", \"개인\")\n",
    "df_1.head(30)"
   ]
  },
  {
   "cell_type": "code",
   "execution_count": null,
   "metadata": {},
   "outputs": [],
   "source": [
    "df_2= stock.get_market_net_purchases_of_equities_by_ticker(\"20200101\", \"20210101\", \"KOSPI200\", \"외국인\")\n",
    "\n",
    "df_2.head(30)"
   ]
  },
  {
   "cell_type": "code",
   "execution_count": null,
   "metadata": {},
   "outputs": [],
   "source": [
    "import matplotlib.pyplot as plt\n",
    "import seaborn as sns; sns.set()\n",
    "import datetime as dt \n",
    "from sklearn import svm\n",
    "\n",
    "y=df_2['순매수거래량']\n",
    "X=df_1['순매수거래량']\n"
   ]
  },
  {
   "cell_type": "code",
   "execution_count": null,
   "metadata": {},
   "outputs": [],
   "source": [
    "# 기본적인 SVM 모델적합\n",
    "\n",
    "C = 1                         # SVM의 regularization parameter\n",
    "clf=svm.SVC(kernel = \"linear\", C=C)\n",
    "clf.fit(X,y)"
   ]
  },
  {
   "cell_type": "code",
   "execution_count": null,
   "metadata": {},
   "outputs": [],
   "source": [
    "# confusion matrix를 통한 정확도 확인\n",
    "\n",
    "from sklearn.metrics import confusion_matrix    # confusion_matrix라이브러리\n",
    "y_pred = clf.predict(X)                         # 학습데이터 분류예측\n",
    "confusion_matrix(y, y_pred)                     # 정확성검정"
   ]
  },
  {
   "cell_type": "code",
   "execution_count": null,
   "metadata": {},
   "outputs": [],
   "source": []
  },
  {
   "cell_type": "code",
   "execution_count": null,
   "metadata": {},
   "outputs": [],
   "source": []
  },
  {
   "cell_type": "code",
   "execution_count": null,
   "metadata": {},
   "outputs": [],
   "source": []
  }
 ],
 "metadata": {
  "kernelspec": {
   "display_name": "Python 3",
   "language": "python",
   "name": "python3"
  },
  "language_info": {
   "codemirror_mode": {
    "name": "ipython",
    "version": 3
   },
   "file_extension": ".py",
   "mimetype": "text/x-python",
   "name": "python",
   "nbconvert_exporter": "python",
   "pygments_lexer": "ipython3",
   "version": "3.8.3"
  }
 },
 "nbformat": 4,
 "nbformat_minor": 4
}
