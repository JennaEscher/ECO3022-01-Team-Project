{
 "cells": [
  {
   "cell_type": "code",
   "execution_count": null,
   "metadata": {},
   "outputs": [],
   "source": [
    "#모델 학습\n",
    "from sklearn.svm import SVC\n",
    "svc=SVC(kernel='rbf')\n",
    "svc.fit(X_train,y_train)\n",
    "\n",
    "#예측\n",
    "y_svc_pred=svc.predict(X_test)\n",
    "print('예측값:',y_svc_pred[:5])\n",
    "\n",
    "#성능 평가\n",
    "svc_acc=accuracy_score(y_test,y_svc_pred)\n",
    "print('Accuracy:%.4f' %svc_acc)"
   ]
  },
  {
   "cell_type": "code",
   "execution_count": 2,
   "metadata": {},
   "outputs": [],
   "source": [
    "#아래는 해보려다 실패했던,,,"
   ]
  },
  {
   "cell_type": "code",
   "execution_count": null,
   "metadata": {},
   "outputs": [],
   "source": [
    "import numpy as np\n",
    "import pandas as pd\n",
    "from pykrx import stock\n",
    "\n",
    "df_1= stock.get_market_net_purchases_of_equities_by_ticker(\"20200101\", \"20210101\", \"KOSPI200\", \"개인\")\n",
    "df_1.head(30)"
   ]
  },
  {
   "cell_type": "code",
   "execution_count": null,
   "metadata": {},
   "outputs": [],
   "source": [
    "df_2= stock.get_market_net_purchases_of_equities_by_ticker(\"20200101\", \"20210101\", \"KOSPI200\", \"외국인\")\n",
    "\n",
    "df_2.head(30)"
   ]
  },
  {
   "cell_type": "code",
   "execution_count": null,
   "metadata": {},
   "outputs": [],
   "source": [
    "import numpy as np                                       ## 기초 수학 연산 및 행렬계산\n",
    "import pandas as pd                                      ## 데이터프레임 사용\n",
    "from sklearn import datasets                             ## iris와 같은 내장 데이터 사용\n",
    "from sklearn.model_selection import train_test_split     ## train, test 데이터 분할\n",
    "\n",
    "from sklearn.linear_model import LinearRegression        ## 선형 회귀분석\n",
    "from sklearn.linear_model import LogisticRegression      ## 로지스틱 회귀분석\n",
    "from sklearn.naive_bayes import GaussianNB               ## 나이브 베이즈\n",
    "from sklearn import svm                                  ## 서포트 벡터 머신\n",
    "from sklearn import tree                                 ## 의사결정나무\n",
    "from sklearn.ensemble import RandomForestClassifier      ## 랜덤포레스트\n",
    "\n",
    "import matplotlib.pyplot as plt                          ## plot 그릴때 사용\n",
    "\n",
    "\n",
    "\n",
    "\n",
    "data=df_2['순매수거래대금'][1:][:-1]\n",
    "\n",
    "target=df_1['순매수거래대금'][1:][:-1]\n"
   ]
  },
  {
   "cell_type": "code",
   "execution_count": null,
   "metadata": {},
   "outputs": [],
   "source": [
    "x=data\n",
    "y=target"
   ]
  },
  {
   "cell_type": "code",
   "execution_count": null,
   "metadata": {},
   "outputs": [],
   "source": [
    "plt.scatter(x,y)"
   ]
  },
  {
   "cell_type": "code",
   "execution_count": 1,
   "metadata": {},
   "outputs": [],
   "source": [
    "# 기본적인 SVM 모델적합\n",
    "\n",
    "#C = 1                         # SVM의 regularization parameter\n",
    "#clf=svm.SVC(kernel = \"linear\", C=C)\n",
    "#clf.fit(X,y)"
   ]
  },
  {
   "cell_type": "code",
   "execution_count": null,
   "metadata": {},
   "outputs": [],
   "source": [
    "# confusion matrix를 통한 정확도 확인\n",
    "\n",
    "from sklearn.metrics import confusion_matrix    # confusion_matrix라이브러리\n",
    "y_pred = clf.predict(X)                         # 학습데이터 분류예측\n",
    "confusion_matrix(y, y_pred)                     # 정확성검정"
   ]
  },
  {
   "cell_type": "code",
   "execution_count": null,
   "metadata": {},
   "outputs": [],
   "source": [
    "from sklearn.model_selection import train_test_split     ## train, test 데이터 분할\n",
    "from sklearn import svm \n",
    "import matplotlib.pyplot as plt "
   ]
  },
  {
   "cell_type": "code",
   "execution_count": null,
   "metadata": {},
   "outputs": [],
   "source": []
  },
  {
   "cell_type": "code",
   "execution_count": null,
   "metadata": {},
   "outputs": [],
   "source": [
    "from sklearn.model_selection import train_test_split     ## train, test 데이터 분할\n",
    "from sklearn import svm \n",
    "import matplotlib.pyplot as plt \n",
    "\n",
    "data = pd.DataFrame(raw.data)               ## 독립변수 데이터 모음  \n",
    "target = pd.DataFrame(raw.target)           ## 종속변수 데이터 모음\n",
    "rawData = pd.concat([data,target], axis=1)  ## 독립변수 + 종속변수 열 결합\n",
    "\n",
    "#x\n",
    "#y\n",
    "\n",
    "def SVM(x,y):\n",
    "    x_train, x_test, y_train, y_test = train_test_split(x,y,test_size=0.25, random_state=0)\n",
    "    clf = svm.SVC(kernel='linear')\n",
    "    clf.fit(x_train, y_train)\n",
    "    clf.predict(x_test)\n",
    "    clf.score(x_test, y_test)\n"
   ]
  }
 ],
 "metadata": {
  "kernelspec": {
   "display_name": "Python 3",
   "language": "python",
   "name": "python3"
  },
  "language_info": {
   "codemirror_mode": {
    "name": "ipython",
    "version": 3
   },
   "file_extension": ".py",
   "mimetype": "text/x-python",
   "name": "python",
   "nbconvert_exporter": "python",
   "pygments_lexer": "ipython3",
   "version": "3.8.3"
  }
 },
 "nbformat": 4,
 "nbformat_minor": 4
}
