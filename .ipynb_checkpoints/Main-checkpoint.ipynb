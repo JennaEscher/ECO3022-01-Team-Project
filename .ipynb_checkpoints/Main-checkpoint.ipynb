{
 "cells": [
  {
   "cell_type": "code",
   "execution_count": 1,
   "metadata": {},
   "outputs": [
    {
     "name": "stdout",
     "output_type": "stream",
     "text": [
      "Requirement already satisfied: import_ipynb in /Users/song/opt/anaconda3/lib/python3.8/site-packages (0.1.3)\r\n"
     ]
    }
   ],
   "source": [
    "!pip install import_ipynb"
   ]
  },
  {
   "cell_type": "code",
   "execution_count": 2,
   "metadata": {},
   "outputs": [
    {
     "name": "stdout",
     "output_type": "stream",
     "text": [
      "importing Jupyter notebook from Function.ipynb\n"
     ]
    }
   ],
   "source": [
    "# Initial Setting\n",
    "import numpy as np\n",
    "import pandas as pd\n",
    "import matplotlib.pyplot as plt\n",
    "import import_ipynb\n",
    "import Function\n",
    "from pykrx import stock\n",
    "from sklearn.preprocessing import MinMaxScaler"
   ]
  },
  {
   "cell_type": "code",
   "execution_count": 3,
   "metadata": {},
   "outputs": [],
   "source": [
    "kospi_200 = stock.get_index_portfolio_deposit_file(\"1028\")"
   ]
  },
  {
   "cell_type": "code",
   "execution_count": null,
   "metadata": {},
   "outputs": [],
   "source": [
    "df = pd.DataFrame(columns=['시가', '고가', '저가', '종가', '거래량', '종목명', '종목코드'])\n",
    "for i in kospi_200:\n",
    "    tmp_df = stock.get_market_ohlcv_by_date(\"20200101\", \"20210101\", i, \"y\")\n",
    "    name = stock.get_market_ticker_name(i)\n",
    "    tmp_df['종목명'] = name\n",
    "    tmp_df['종목코드'] = i\n",
    "    df = df.append(tmp_df)"
   ]
  },
  {
   "cell_type": "markdown",
   "metadata": {},
   "source": [
    "거래량 순으로 정렬:"
   ]
  },
  {
   "cell_type": "code",
   "execution_count": null,
   "metadata": {},
   "outputs": [],
   "source": [
    "sorted_df = df.sort_values(by=['거래량'], axis=0, ascending = False)\n",
    "print(sorted_df.head(30))\n",
    "code_df = sorted_df.iloc[:30, 6]"
   ]
  },
  {
   "cell_type": "code",
   "execution_count": null,
   "metadata": {},
   "outputs": [],
   "source": [
    "def volume_ret_df(date_1, date_2, date_3, date_4):\n",
    "    code_list = []\n",
    "    name_list = []\n",
    "    f_list = []\n",
    "    o_list = []\n",
    "    p_list = []\n",
    "    for i in range(len(code_df)):\n",
    "        code_tmp = code_df[i]\n",
    "        name_tmp = stock.get_market_ticker_name(code_tmp)\n",
    "        volume_df = stock.get_market_trading_volume_by_date(date_1, date_2, code_tmp)\n",
    "        code_list.append(code_tmp)\n",
    "        name_list.append(name_tmp)\n",
    "        f_list.append(volume_df['외국인합계'].sum())\n",
    "        o_list.append(volume_df['기관합계'].sum())\n",
    "        p_list.append(volume_df['개인'].sum())\n",
    "    result_df = pd.DataFrame(columns=['종목코드', '종목명', '외국인거래량', '기관거래량', '개인거래량', '수익률'])\n",
    "    result_df['종목코드'] = code_list\n",
    "    result_df['종목명'] = name_list\n",
    "    result_df['외국인거래량'] = f_list\n",
    "    result_df['기관거래량'] = o_list\n",
    "    result_df['개인거래량'] = p_list\n",
    "    ret_list = []\n",
    "    for i in range(len(code_df)):\n",
    "        code_tmp = code_df[i]\n",
    "        tmp_df = stock.get_market_ohlcv_by_date(date_3, date_4, code_tmp)\n",
    "        ret_tmp = (tmp_df.iloc[4, 3] / tmp_df.iloc[0, 0] - 1) * 100\n",
    "        ret_list.append(ret_tmp)\n",
    "    result_df['수익률'] = ret_list\n",
    "    return result_df"
   ]
  },
  {
   "cell_type": "code",
   "execution_count": null,
   "metadata": {},
   "outputs": [],
   "source": [
    "a_df = volume_ret_df(\"20200101\", \"20200131\", \"20200101\", \"20200131\")\n",
    "plt.figure(figsize = (6, 6))\n",
    "plt.scatter(a_df['외국인거래량'], a_df['수익률'], c = 'r', label = '외국인')\n",
    "plt.scatter(a_df['개인거래량'], a_df['수익률'], c = 'b', label = '개인')\n",
    "\n",
    "plt.legend()\n",
    "plt.show()"
   ]
  },
  {
   "cell_type": "code",
   "execution_count": null,
   "metadata": {},
   "outputs": [],
   "source": [
    "new_df = stock.get_market_trading_volume_by_date(\"20200401\", \"20200430\", \"005930\")\n",
    "ret_list = []\n",
    "tmp_df = stock.get_market_ohlcv_by_date(\"20200401\", \"20200430\", \"005930\")\n",
    "for i in range(len(new_df)):\n",
    "    ret_tmp = (tmp_df.iloc[i, 3] / tmp_df.iloc[i, 0] - 1) * 100\n",
    "    ret_list.append(ret_tmp)\n",
    "new_df['수익률'] = ret_list"
   ]
  },
  {
   "cell_type": "code",
   "execution_count": null,
   "metadata": {},
   "outputs": [],
   "source": [
    "dfPlot1 = new_df[::-1]\n",
    "\n",
    "for i in range(1,dfPlot1.shape[1]):\n",
    "    dfPlot1.iloc[:,i] = (dfPlot1.iloc[:,i]-np.min(dfPlot1.iloc[:,i]))/(np.max(dfPlot1.iloc[:,i])-np.min(dfPlot1.iloc[:,i]))\n",
    "\n",
    "plt.plot(new_df.index, dfPlot1['외국인합계'], c = 'r', label = '외국인')\n",
    "plt.plot(new_df.index, dfPlot1['수익률'], c = 'b', label = '수익률')"
   ]
  },
  {
   "cell_type": "code",
   "execution_count": null,
   "metadata": {},
   "outputs": [],
   "source": [
    "A = dfPlot1['외국인합계'].to_numpy()\n",
    "B = dfPlot1['수익률'].to_numpy()\n",
    "C = dfPlot1['기관합계'].to_numpy()"
   ]
  },
  {
   "cell_type": "code",
   "execution_count": null,
   "metadata": {},
   "outputs": [],
   "source": [
    "cost_fo, path_fo = Function.DTW(A, B, window = len(A))\n",
    "print ('Total Distance is ', cost_fo)\n",
    "offset = 5\n",
    "plt.xlim([-1, max(len(A), len(B)) + 1])\n",
    "plt.plot(A)\n",
    "plt.plot(B + offset)\n",
    "for(x1, x2) in path_fo:\n",
    "    plt.plot([x1, x2], [A[x1], B[x2] + offset])\n",
    "plt.show()"
   ]
  },
  {
   "cell_type": "code",
   "execution_count": null,
   "metadata": {},
   "outputs": [],
   "source": [
    "D = dfPlot1['수익률'].to_numpy()\n",
    "cost_org, path_org = Function.DTW(C, D, window = len(C))\n",
    "print ('Total Distance is ', cost_org)\n",
    "offset = 5\n",
    "plt.xlim([-1, max(len(C), len(D)) + 1])\n",
    "plt.plot(C)\n",
    "plt.plot(D + offset)\n",
    "for(x3, x4) in path_org:\n",
    "    plt.plot([x3, x4], [C[x3], D[x4] + offset])\n",
    "plt.show()"
   ]
  },
  {
   "cell_type": "code",
   "execution_count": null,
   "metadata": {},
   "outputs": [],
   "source": []
  }
 ],
 "metadata": {
  "kernelspec": {
   "display_name": "Python 3",
   "language": "python",
   "name": "python3"
  },
  "language_info": {
   "codemirror_mode": {
    "name": "ipython",
    "version": 3
   },
   "file_extension": ".py",
   "mimetype": "text/x-python",
   "name": "python",
   "nbconvert_exporter": "python",
   "pygments_lexer": "ipython3",
   "version": "3.8.5"
  }
 },
 "nbformat": 4,
 "nbformat_minor": 2
}
