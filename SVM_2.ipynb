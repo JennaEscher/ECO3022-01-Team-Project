{
 "cells": [
  {
   "cell_type": "code",
   "execution_count": 1,
   "metadata": {},
   "outputs": [
    {
     "name": "stdout",
     "output_type": "stream",
     "text": [
      "Collecting import_ipynb\n",
      "  Downloading import-ipynb-0.1.3.tar.gz (4.0 kB)\n",
      "Building wheels for collected packages: import-ipynb\n",
      "  Building wheel for import-ipynb (setup.py) ... \u001b[?25ldone\n",
      "\u001b[?25h  Created wheel for import-ipynb: filename=import_ipynb-0.1.3-py3-none-any.whl size=2975 sha256=8e18dcdfddb4d0b198a15938a7036f2e377f4a13c216df9f189300791c604b87\n",
      "  Stored in directory: /Users/yunhyejin/Library/Caches/pip/wheels/06/7e/ad/1cb03e935234186825cefc7e2c8f3451b4f654b5bc72232a7b\n",
      "Successfully built import-ipynb\n",
      "Installing collected packages: import-ipynb\n",
      "Successfully installed import-ipynb-0.1.3\n",
      "Collecting dtw-python\n",
      "  Downloading dtw_python-1.1.10-cp38-cp38-macosx_10_9_x86_64.whl (307 kB)\n",
      "\u001b[K     |████████████████████████████████| 307 kB 1.2 MB/s eta 0:00:01\n",
      "\u001b[?25hRequirement already satisfied: scipy>=1.1 in /Users/yunhyejin/opt/anaconda3/lib/python3.8/site-packages (from dtw-python) (1.5.0)\n",
      "Collecting numpy>=1.19\n",
      "  Downloading numpy-1.20.3-cp38-cp38-macosx_10_9_x86_64.whl (16.0 MB)\n",
      "\u001b[K     |████████████████████████████████| 16.0 MB 10.6 MB/s eta 0:00:01\n",
      "\u001b[?25hInstalling collected packages: numpy, dtw-python\n",
      "  Attempting uninstall: numpy\n",
      "    Found existing installation: numpy 1.18.5\n",
      "    Uninstalling numpy-1.18.5:\n",
      "      Successfully uninstalled numpy-1.18.5\n",
      "Successfully installed dtw-python-1.1.10 numpy-1.20.3\n"
     ]
    }
   ],
   "source": [
    "!pip install import_ipynb\n",
    "!pip install dtw-python"
   ]
  },
  {
   "cell_type": "code",
   "execution_count": 2,
   "metadata": {},
   "outputs": [
    {
     "name": "stdout",
     "output_type": "stream",
     "text": [
      "importing Jupyter notebook from Function.ipynb\n",
      "Importing the dtw module. When using in academic works please cite:\n",
      "  T. Giorgino. Computing and Visualizing Dynamic Time Warping Alignments in R: The dtw Package.\n",
      "  J. Stat. Soft., doi:10.18637/jss.v031.i07.\n",
      "\n"
     ]
    }
   ],
   "source": [
    "# Initial Setting\n",
    "import numpy as np\n",
    "import pandas as pd\n",
    "import matplotlib.pyplot as plt\n",
    "import import_ipynb\n",
    "import Function\n",
    "from dtw import *\n",
    "from pykrx import stock\n",
    "from sklearn.preprocessing import MinMaxScaler"
   ]
  },
  {
   "cell_type": "code",
   "execution_count": 3,
   "metadata": {},
   "outputs": [],
   "source": [
    "kospi_200 = stock.get_index_portfolio_deposit_file(\"1028\")"
   ]
  },
  {
   "cell_type": "code",
   "execution_count": 4,
   "metadata": {},
   "outputs": [],
   "source": [
    "df = pd.DataFrame(columns=['시가', '고가', '저가', '종가', '거래량', '종목명', '종목코드'])\n",
    "for i in kospi_200:\n",
    "    tmp_df = stock.get_market_ohlcv_by_date(\"20200101\", \"20210101\", i, \"y\")\n",
    "    name = stock.get_market_ticker_name(i)\n",
    "    tmp_df['종목명'] = name\n",
    "    tmp_df['종목코드'] = i\n",
    "    df = df.append(tmp_df)"
   ]
  },
  {
   "cell_type": "markdown",
   "metadata": {},
   "source": [
    "거래량 순으로 정렬:"
   ]
  },
  {
   "cell_type": "code",
   "execution_count": 5,
   "metadata": {},
   "outputs": [
    {
     "name": "stdout",
     "output_type": "stream",
     "text": [
      "                시가      고가     저가      종가           거래량      종목명    종목코드\n",
      "2020-12-31   55500   81300  42300   81000  5.471749e+09     삼성전자  005930\n",
      "2020-12-31    3305    7980   2920    4695  3.397658e+09    남선알미늄  008350\n",
      "2020-12-31    7270    7930   3070    7040  2.263565e+09    삼성중공업  010140\n",
      "2020-12-31    5550   10550   2500    7920  2.128066e+09  두산인프라코어  042670\n",
      "2020-12-31    7330  214000      0  124000  2.036548e+09     신풍제약  019170\n",
      "2020-12-31    2315    2870    881    2440  1.870908e+09     한화생명  088350\n",
      "2020-12-31   23257   29713      0   18000  1.699525e+09   아시아나항공  020560\n",
      "2020-12-31    5263   17700   2200   13500  1.497275e+09    두산중공업  034020\n",
      "2020-12-31    6650   12800   3530    8040  1.351267e+09     영진약품  003520\n",
      "2020-12-31    3555   15250   2120   13950  1.163048e+09      HMM  011200\n",
      "2020-12-31   13112   42537  11285   28100  1.068908e+09     부광약품  003000\n",
      "2020-12-31   96000  121000  65800  118500  1.027574e+09   SK하이닉스  000660\n",
      "2020-12-31   28100   30050  15550   27400  9.467680e+08     한국전력  015760\n",
      "2020-12-31   18223   52342   9082   46430  8.834500e+08    한화솔루션  009830\n",
      "2020-12-31    4530    5090   2055    5020  8.468870e+08      팬오션  028670\n",
      "2020-12-31    7550   10700   3505    9440  7.992684e+08   미래에셋증권  006800\n",
      "2020-12-31   16450   20750   8850   18550  7.766159e+08  LG디스플레이  034220\n",
      "2020-12-31    8170   12700   4600   11800  7.544819e+08       후성  093370\n",
      "2020-12-31    3795    4055   2020    3665  6.874121e+08    메리츠증권  008560\n",
      "2020-12-31   18479   23378   8299   21091  6.698449e+08     대한항공  003490\n",
      "2020-12-31    8664   61325      0   53500  6.453774e+08    두산퓨얼셀  336260\n",
      "2020-12-31    4730    5450   2250    4985  6.413617e+08     대우건설  047040\n",
      "2020-12-31   43100   43450  21850   32050  5.867987e+08     신한지주  055550\n",
      "2020-12-31   14200   14650   9210   11750  5.809277e+08   LG유플러스  032640\n",
      "2020-12-31   11750   11800   5860    8840  5.714762e+08     기업은행  024110\n",
      "2020-12-31   11600   11750   6320    9730  5.512259e+08   우리금융지주  316140\n",
      "2020-12-31   47250   48700  25850   43400  5.247722e+08     KB금융  105560\n",
      "2020-12-31   44100   66600  21500   62400  5.213854e+08       기아  000270\n",
      "2020-12-31   19300   19550   6910   13250  5.091445e+08  삼성엔지니어링  028050\n",
      "2020-12-31  121000  199000  65000  192000  5.066884e+08      현대차  005380\n"
     ]
    }
   ],
   "source": [
    "sorted_df = df.sort_values(by=['거래량'], axis=0, ascending = False)\n",
    "print(sorted_df.head(30))\n",
    "code_df = sorted_df.iloc[:30, 6]"
   ]
  },
  {
   "cell_type": "code",
   "execution_count": 6,
   "metadata": {},
   "outputs": [],
   "source": [
    "def volume_ret_df(date_1, date_2, date_3, date_4):\n",
    "    code_list = []\n",
    "    name_list = []\n",
    "    f_list = []\n",
    "    o_list = []\n",
    "    p_list = []\n",
    "    for i in range(len(code_df)):\n",
    "        code_tmp = code_df[i]\n",
    "        name_tmp = stock.get_market_ticker_name(code_tmp)\n",
    "        volume_df = stock.get_market_trading_volume_by_date(date_1, date_2, code_tmp)\n",
    "        code_list.append(code_tmp)\n",
    "        name_list.append(name_tmp)\n",
    "        f_list.append(volume_df['외국인합계'].sum())\n",
    "        o_list.append(volume_df['기관합계'].sum())\n",
    "        p_list.append(volume_df['개인'].sum())\n",
    "    result_df = pd.DataFrame(columns=['종목코드', '종목명', '외국인거래량', '기관거래량', '개인거래량', '수익률'])\n",
    "    result_df['종목코드'] = code_list\n",
    "    result_df['종목명'] = name_list\n",
    "    result_df['외국인거래량'] = f_list\n",
    "    result_df['기관거래량'] = o_list\n",
    "    result_df['개인거래량'] = p_list\n",
    "    ret_list = []\n",
    "    for i in range(len(code_df)):\n",
    "        code_tmp = code_df[i]\n",
    "        tmp_df = stock.get_market_ohlcv_by_date(date_3, date_4, code_tmp)\n",
    "        ret_tmp = (tmp_df.iloc[4, 3] / tmp_df.iloc[0, 0] - 1) * 100\n",
    "        ret_list.append(ret_tmp)\n",
    "    result_df['수익률'] = ret_list\n",
    "    return result_df"
   ]
  },
  {
   "cell_type": "code",
   "execution_count": 59,
   "metadata": {
    "scrolled": true
   },
   "outputs": [
    {
     "name": "stderr",
     "output_type": "stream",
     "text": [
      "/Users/yunhyejin/opt/anaconda3/lib/python3.8/site-packages/matplotlib/backends/backend_agg.py:214: RuntimeWarning: Glyph 8722 missing from current font.\n",
      "  font.set_text(s, 0.0, flags=flags)\n",
      "/Users/yunhyejin/opt/anaconda3/lib/python3.8/site-packages/matplotlib/backends/backend_agg.py:183: RuntimeWarning: Glyph 8722 missing from current font.\n",
      "  font.set_text(s, 0, flags=flags)\n"
     ]
    },
    {
     "data": {
      "image/png": "[encoded data removed]",
      "text/plain": [
       "<Figure size 432x432 with 1 Axes>"
      ]
     },
     "metadata": {
      "needs_background": "light"
     },
     "output_type": "display_data"
    }
   ],
   "source": [
    "a_df = volume_ret_df(\"20200101\", \"20210131\", \"20200101\", \"20210131\")\n",
    "plt.figure(figsize = (6, 6))\n",
    "plt.scatter(a_df['외국인거래량'], a_df['수익률'], c = 'r', label = '외국인')\n",
    "plt.scatter(a_df['개인거래량'], a_df['수익률'], c = 'b', label = '개인')\n",
    "\n",
    "plt.legend()\n",
    "plt.show()"
   ]
  },
  {
   "cell_type": "code",
   "execution_count": 60,
   "metadata": {},
   "outputs": [],
   "source": [
    "y=a_df['수익률'].astype(int)\n",
    "x1=a_df['외국인거래량']\n",
    "x2=a_df['개인거래량']\n",
    "x=list(zip(x1,x2))"
   ]
  },
  {
   "cell_type": "code",
   "execution_count": 61,
   "metadata": {},
   "outputs": [
    {
     "data": {
      "text/plain": [
       "dict_keys(['C', 'break_ties', 'cache_size', 'class_weight', 'coef0', 'decision_function_shape', 'degree', 'gamma', 'kernel', 'max_iter', 'probability', 'random_state', 'shrinking', 'tol', 'verbose'])"
      ]
     },
     "execution_count": 61,
     "metadata": {},
     "output_type": "execute_result"
    }
   ],
   "source": [
    "from sklearn.svm import SVC \n",
    "from sklearn.model_selection import cross_val_score\n",
    "from sklearn.neural_network import MLPClassifier\n",
    "from sklearn.ensemble import RandomForestClassifier\n",
    "\n",
    "svc = SVC(kernel='rbf', class_weight='balanced')\n",
    "svc.get_params().keys()"
   ]
  },
  {
   "cell_type": "code",
   "execution_count": 62,
   "metadata": {},
   "outputs": [],
   "source": [
    "from sklearn.model_selection import train_test_split\n",
    "\n",
    "Xtrain, Xtest, ytrain, ytest = train_test_split(x, y, random_state=33)"
   ]
  },
  {
   "cell_type": "code",
   "execution_count": 67,
   "metadata": {},
   "outputs": [],
   "source": [
    "from sklearn.model_selection  import GridSearchCV\n",
    "param_grid = {'C': [1, 5, 10, 50],\n",
    "              'gamma': [0.0001, 0.0005, 0.001, 0.005]}\n",
    "grid = GridSearchCV(svc, param_grid, cv=5)"
   ]
  },
  {
   "cell_type": "code",
   "execution_count": 68,
   "metadata": {},
   "outputs": [],
   "source": [
    "#from sklearn.pipeline import Pipeline\n",
    "#from sklearn.preprocessing import StandardScaler\n",
    "\n",
    "#rbf_kernel_svm_clf=Pipeline([('scaler', StandardScaler()),\n",
    "                            #('svm_clf',SVC(kernel='rbf',gamma=0.0001,C=1))])\n",
    "#rbf_kernel_svm_clf.fit(x,y)"
   ]
  },
  {
   "cell_type": "code",
   "execution_count": 69,
   "metadata": {},
   "outputs": [
    {
     "data": {
      "text/plain": [
       "0.75"
      ]
     },
     "execution_count": 69,
     "metadata": {},
     "output_type": "execute_result"
    }
   ],
   "source": [
    "svc.fit(Xtest,ytest)\n",
    "svc.score(Xtest, ytest)"
   ]
  },
  {
   "cell_type": "code",
   "execution_count": 78,
   "metadata": {},
   "outputs": [
    {
     "name": "stdout",
     "output_type": "stream",
     "text": [
      "예측값: [-6 -6 -6 -5 -6]\n",
      "Accuracy:0.0000\n"
     ]
    }
   ],
   "source": [
    "from sklearn.metrics import accuracy_score\n",
    "#예측\n",
    "y_svc_pred=svc.predict(Xtest)\n",
    "print('예측값:',y_svc_pred[:5])\n",
    "\n",
    "#성능 평가\n",
    "svc_acc=accuracy_score(ytest,y_svc_pred)\n",
    "print('Accuracy:%.4f' %svc_acc)"
   ]
  },
  {
   "cell_type": "code",
   "execution_count": null,
   "metadata": {},
   "outputs": [],
   "source": []
  }
 ],
 "metadata": {
  "kernelspec": {
   "display_name": "Python 3",
   "language": "python",
   "name": "python3"
  },
  "language_info": {
   "codemirror_mode": {
    "name": "ipython",
    "version": 3
   },
   "file_extension": ".py",
   "mimetype": "text/x-python",
   "name": "python",
   "nbconvert_exporter": "python",
   "pygments_lexer": "ipython3",
   "version": "3.8.3"
  }
 },
 "nbformat": 4,
 "nbformat_minor": 2
}
